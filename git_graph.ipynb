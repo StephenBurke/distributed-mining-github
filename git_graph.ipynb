{
 "cells": [
  {
   "cell_type": "code",
   "execution_count": 12,
   "metadata": {},
   "outputs": [],
   "source": [
    "def augment_owns(graph, user, lang=False):\n",
    "    graph.add_node(user.login, node_type = 'user')\n",
    "    repos = user.get_repos()\n",
    "    for repo in repos:\n",
    "        graph.add_node(repo.name, node_type = 'repo')\n",
    "        graph.add_edge(user.login, repo.name, edge_type = 'owns')\n",
    "        if lang:\n",
    "            graph.add_node(repo.language, node_type='lang')\n",
    "            graph.add_edge(user.login, repo.language, edge_type='users')\n",
    "            graph.add_edge(repo.name, repo.language, edge_type='speaks')\n",
    "    return repos\n",
    "\n",
    "def augment_stargazers(graph, repo):\n",
    "    gazers = repo.get_stargazers()\n",
    "    for stargazer in gazers:\n",
    "        graph.add_node(stargazer.login, node_type = 'user')\n",
    "        graph.add_edge(stargazer.login, repo.name, edge_type = 'gazes')\n",
    "    return gazers"
   ]
  },
  {
   "cell_type": "code",
   "execution_count": 14,
   "metadata": {},
   "outputs": [],
   "source": [
    "from github import Github\n",
    "from github_token import TOKEN\n",
    "client = Github(TOKEN)\n",
    "\n",
    "REPO = 'i3/i3'\n",
    "repo = client.get_repo(REPO)\n",
    "\n",
    "USER = 'StephenBurke'\n",
    "user = client.get_user(USER)"
   ]
  },
  {
   "cell_type": "code",
   "execution_count": 4,
   "metadata": {},
   "outputs": [],
   "source": [
    "#from gh_graph_utils import augment_owns, augment_stargazers\n",
    "import networkx as nx\n",
    "\n",
    "graph = nx.DiGraph()\n",
    "graph.add_node(repo.name, node_type='repo')\n"
   ]
  },
  {
   "cell_type": "code",
   "execution_count": 19,
   "metadata": {},
   "outputs": [],
   "source": [
    "# RESET\n",
    "visited_users = set()\n",
    "visited_users.add(user)\n",
    "ghgraph = nx.DiGraph()\n",
    "startuser = client.get_user(USER)"
   ]
  },
  {
   "cell_type": "code",
   "execution_count": 20,
   "metadata": {},
   "outputs": [],
   "source": [
    "visited_users = set()\n",
    "newusers = augment_stargazers(graph, repo)\n",
    "newrepos = augment_owns(ghgraph, startuser, lang = True)"
   ]
  },
  {
   "cell_type": "code",
   "execution_count": null,
   "metadata": {},
   "outputs": [],
   "source": [
    "#alternate running this with the next cell\n",
    "newrepos = []\n",
    "nx.write_gpickle(graph, 'repo-start.pkl')\n",
    "for user in newusers:\n",
    "    if not user in visited_users:\n",
    "        newrepos.extend(augment_owns(graph, user))\n",
    "        visited_users.add(user)"
   ]
  },
  {
   "cell_type": "code",
   "execution_count": null,
   "metadata": {},
   "outputs": [],
   "source": [
    "newusers = []\n",
    "nx.write_gpickle(graph, 'repo-start.pkl')\n",
    "for repo in newrepos:\n",
    "    newusers.extend(augment_stargazers(graph, repo))"
   ]
  },
  {
   "cell_type": "code",
   "execution_count": null,
   "metadata": {},
   "outputs": [],
   "source": [
    "# final write, for prosperity\n",
    "nx.write_gpickle(graph, 'repo-start.pkl')\n"
   ]
  }
 ],
 "metadata": {
  "kernelspec": {
   "display_name": "Python 3",
   "language": "python",
   "name": "python3"
  },
  "language_info": {
   "codemirror_mode": {
    "name": "ipython",
    "version": 3
   },
   "file_extension": ".py",
   "mimetype": "text/x-python",
   "name": "python",
   "nbconvert_exporter": "python",
   "pygments_lexer": "ipython3",
   "version": "3.7.6"
  }
 },
 "nbformat": 4,
 "nbformat_minor": 4
}
